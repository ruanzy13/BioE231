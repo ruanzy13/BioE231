{
 "cells": [
  {
   "cell_type": "markdown",
   "metadata": {},
   "source": [
    "### lab 8 - Genome sequencing and assembly\n",
    "Take the reads and combine them into a complete genome"
   ]
  },
  {
   "cell_type": "markdown",
   "metadata": {},
   "source": [
    "### Question handling\n",
    "1. Why do we expect short reads to produce a more fragmented assembly than long reads?\n",
    "Compared to long reads, short reads can not span low complexity and repeats in a DNA sequence, which leads to ambiguity of either locating the read on a reference interms of their orientation and order, or using overlaps between reads.\n",
    "2. Why does a single-molecule sequencing like PacBio have a higher error rate than Illumina\n",
    "Let's tale the example of Oxford Nanopore Technologies to explain wht long reads is a error-prone process. This technology is based on passing a single strand of DNA through a nanpore with an enzyme attached, and measuring changes in the electrical signal accross the pore. As the pore holds several bases at a time, overlapping k-mers that cause changes in raw current must e inferred and used to make base calls, a process can be error prone. Over a long sequence reads, for sure the error would be accumulated and be higher that the short reads. (_Reference:Long reads: their purpose and place_)"
   ]
  },
  {
   "cell_type": "markdown",
   "metadata": {},
   "source": [
    "### Run SPAdes inside a \"screen\"\n",
    "To start a screen, type \"screen\" in the terminal\n",
    "To leave screen temporatily, press \"Ctrl-a\" then press \"d\"\n",
    "To reattach to screen, use command of \"screen -ls\" to list all screens and then use screen -r SESSION_NUMBER to reattach one of them specifially\n",
    "spades -t 1 -1 /data/lab8/illumina_reads_R1.fastq -2 /data/lab8/illumina_reads_R2.fastq --pacbio /data/lab8/pacbio_reads.fastq -o ./genomeassembly.output"
   ]
  },
  {
   "cell_type": "markdown",
   "metadata": {},
   "source": [
    "### Generate assembly statistics\n"
   ]
  },
  {
   "cell_type": "code",
   "execution_count": 10,
   "metadata": {},
   "outputs": [
    {
     "name": "stdout",
     "output_type": "stream",
     "text": [
      "stats for genomeassembly.output/contigs.fasta\n",
      "sum = 6678635, n = 176, ave = 37946.79, largest = 414008\n",
      "N50 = 234690, n = 11\n",
      "N60 = 202142, n = 14\n",
      "N70 = 154232, n = 18\n",
      "N80 = 103367, n = 23\n",
      "N90 = 81286, n = 30\n",
      "N100 = 128, n = 176\n",
      "N_count = 0\n",
      "Gaps = 0\n",
      "\n"
     ]
    }
   ],
   "source": [
    "import subprocess\n",
    "proc = subprocess.run(['assembly-stats', 'genomeassembly.output/contigs.fasta'],\\\n",
    "                      input=None, stdout=subprocess.PIPE, stderr=subprocess.PIPE)\n",
    "for line in proc.stdout.decode().split('\\n'): \n",
    "    print(line)"
   ]
  },
  {
   "cell_type": "code",
   "execution_count": 11,
   "metadata": {},
   "outputs": [
    {
     "name": "stdout",
     "output_type": "stream",
     "text": [
      "stats for genomeassembly.output/scaffolds.fasta\n",
      "sum = 6678655, n = 174, ave = 38383.07, largest = 414008\n",
      "N50 = 234690, n = 11\n",
      "N60 = 202142, n = 14\n",
      "N70 = 154232, n = 18\n",
      "N80 = 103367, n = 23\n",
      "N90 = 81821, n = 30\n",
      "N100 = 128, n = 174\n",
      "N_count = 20\n",
      "Gaps = 2\n",
      "\n"
     ]
    }
   ],
   "source": [
    "import subprocess\n",
    "proc = subprocess.run(['assembly-stats', 'genomeassembly.output/scaffolds.fasta'],\\\n",
    "                      input=None, stdout=subprocess.PIPE, stderr=subprocess.PIPE)\n",
    "for line in proc.stdout.decode().split(\"\\n\"): \n",
    "    print(line)"
   ]
  },
  {
   "cell_type": "markdown",
   "metadata": {},
   "source": [
    "### Question handling\n",
    "1. why is N50 is useful stastic to calculate? \n",
    "The N50 can be described as a weighted median stastic such thta 50% of the entire assembly is contained in contigs equal to or larger than this value. Median cotig length can not give information how long/short the config is larger/smaller than the median cotig length. Mean contig length can be described as a number average but does not including information like how many congigs have length below/above the mean contig length.\n",
    "2. In your assembly, are scaffolds larger than configs, or are scaffolds approximately equal to contigs?\n",
    "The sum of scaffolds equals to that of contigs, but the number of scaffolds is slightly smaller than that of contigs. Two gaps mean it happens twice that the assembler can't tell what sequence connects two contigs in a scaffold. \n"
   ]
  },
  {
   "cell_type": "markdown",
   "metadata": {},
   "source": [
    "### Extra Credit\n",
    "Extract the coverage form each FASTA header and plot a histogram of coverage fro all contigs in your assembly "
   ]
  },
  {
   "cell_type": "code",
   "execution_count": 57,
   "metadata": {},
   "outputs": [
    {
     "name": "stdout",
     "output_type": "stream",
     "text": [
      "7.740928\n"
     ]
    }
   ],
   "source": [
    "import re\n",
    "line=\"NODE_1_length_414008_cov_7.740928\"\n",
    "coverage = re.findall(r\"(?<=_cov_)[0-9.]+\", line)[0]\n",
    "print(coverage)"
   ]
  },
  {
   "cell_type": "code",
   "execution_count": 65,
   "metadata": {},
   "outputs": [
    {
     "data": {
      "image/png": "[encoded data removed]",
      "text/plain": [
       "<Figure size 432x288 with 1 Axes>"
      ]
     },
     "metadata": {
      "needs_background": "light"
     },
     "output_type": "display_data"
    }
   ],
   "source": [
    "%matplotlib inline\n",
    "from matplotlib import pyplot as plt\n",
    "import re\n",
    "\n",
    "\n",
    "coverage = []\n",
    "contig_infile = open('genomeassembly.output/contigs.fasta')\n",
    "for line in contig_infile.readlines() :\n",
    "    if line[0] == '>' :\n",
    "        times = float(re.findall(r\"(?<=_cov_)[0-9.]+\", line)[0]) #?<=... Matches if the current position in the string is preceded by a match for ... that ends at the current position\n",
    "        coverage.append(times)\n",
    "hist=plt.hist(coverage,bins=2000, color=\"red\")\n",
    "plt.xlim(0,170)# There is only one contig with coverage larger than 170, to get a high resolution of the coverage distribution, I set the y range from 0 to 170\n",
    "plt.xlabel('Coverage for all contigs')\n",
    "_=plt.ylabel('Occurrence of each coverage')\n",
    "\n"
   ]
  },
  {
   "cell_type": "markdown",
   "metadata": {},
   "source": [
    "### Question handling\n",
    "1. Is coverage uniformly distributed? Does it look Gaussian? Is it bimodal or trimodal?\n",
    "Geometric distribution would be a better way to describe the this distribution. Or it kind of like bimodal distribution if we count the region near 0 as a peak, then there are two peaks in this distribution.\n",
    "2. What explains the presence of contigs with coverage an integer multiple of the mean coverage?\n",
    "I am not sure what are you really asking."
   ]
  },
  {
   "cell_type": "markdown",
   "metadata": {},
   "source": [
    "### Identify the taxon from which your genome originated\n",
    "To identify your genome,\n",
    "1. scan over the entire genome to locate copies of the 16S ribosomal RNA gene\n",
    "2. extract the 16S RNA genes from your assembly\n",
    "3. compare these genes to a database of known 16S rRNA genes\n",
    "```\n",
    "rna_hmm3.py -i genomeassembly.output/contigs.fasta -o rrna.gff\n",
    "```\n",
    "```\n",
    "bedtools getfasta -fi genomeassembly.output/contigs.fasta -bed rrna.gff > rrna.fasta\n",
    "```\n",
    "\n",
    "Head over to [ribosomal database project's seqmatch tool](http://rdp.cme.msu.edu/seqmatch/seqmatch_intro.jsp), upload the resulting FASTA file from the previous step. Below is the result,\n",
    "![Seqmatch_result](Seqmatch.png)\n",
    "\n",
    "According to result, since we has mentioned it is bacterial genome, thus apparently, there is only one option left in the result. Thus, the 16s rRNA genes originate from domain \"Bacteria\" phylum \"Proteobacteria\" class \"Gammaproteobacteria\" order \"Pseudomonadales\" family\"Pseudomonadaceae\" genus \"Pseudomonas\""
   ]
  },
  {
   "cell_type": "markdown",
   "metadata": {},
   "source": [
    "### Genome annotation\n",
    "Genome annotation refers to breaking the long genome sequence into genes, then indentifying their function by identifying orthologs with known function in orther, more well-studies genomes with help of a program. \n",
    "\n",
    "Upload contig.FASTA to FAST, input known genome information and wait about half hour.\n",
    "Built-in viewer called **Seed** ![overview](sub.png)in RAST offers the ease of browsing annotated genome.  \n"
   ]
  },
  {
   "cell_type": "markdown",
   "metadata": {},
   "source": [
    "### Research and write-up\n",
    "1. What environment do relatives of your bacterium live in? Is there evidence of adaptation to this environment in the genome?\n",
    "\n",
    "   Sources: wikipedia\n",
    "   The members of the genus demonstrate a great deal of metabolic diversity and consequently are able to colonize a wide range of niches. They are widespread in water and plant seeds. Members of the genus display defining characteristics: aerobic, catalase-positive(that catalyzes the decompositon of hydrogen peroxide to water and oxygen so that protecting the bacteria from oxidative damage) an oxidase-positive(that catalyzes an oxidation-reduction reaction, especially involving dioxygen as the electron acceptor). \n",
    "   Correspondingly, when I checked the genome, there are some regions of the genome encode oxidases responding to electron accepting reactions.![see list of oxidases found in the genome](electron.png)\n",
    "\n",
    "2. Based on its genome, is your bacterium auxotrophic for any amino acids? Are its closest relatives also auxotrophic for these?\n",
    "\n",
    "   Auxotrophy is the inability. of an organism to synthesize a particular organic compound required for its growth. To examine whether or not our bacterium is auxotrophic for any amino acids, I check ![Amino Acids and Derivatives](aa.png), there are biosynthesis ways account for each amino acid. So roughly to say, our bacterium is not auxotrophic for any amino acids.\n",
    "   \n",
    "3. Horizontal gene transfer is common among bacteria. Is there any evidence for HGT in your genome?\n",
    "\n",
    "   HGT is the movement of genetic material between unicellular and/or multicellular organism other than by the vertical transmission of DNA from parent to offerspring(reproducing).\n",
    "   There is a paper I found titled by **Phenotypic and genetic resistance traits of Pseudomonas aeruginosa strains infecting cystic fibrosis patients: A French cohort study.** In this paper, the author found out among cystic fibrosis patients, Pseudomonas aeruginosa displayed its ability to rapidly spread certain proteins by HGT. \n",
    "\n",
    "4. CRISPR-Cas9 is so hot right now. Does your genome have a CRISPR system? Can you determine where the spacer sequences originated from?\n",
    "   Source: wikipedia\n",
    "   CRISPR is a family of DNA sequences found within the genomes of prokaryotic organims such as bacteria and archaea, which are used to detect and destroy DNA from similar viruses during subsequent infections. Cas9 is an enzyme that uses CRISPER sequences as a guide to recognize and cleave specific strands of DNA that are complementary to the CRISPR sequence. \n",
    "   Unfornately, there is no record on CRISPs in our genome."
   ]
  },
  {
   "cell_type": "code",
   "execution_count": null,
   "metadata": {
    "collapsed": true
   },
   "outputs": [],
   "source": []
  }
 ],
 "metadata": {
  "kernelspec": {
   "display_name": "Python 3",
   "language": "python",
   "name": "python3"
  },
  "language_info": {
   "codemirror_mode": {
    "name": "ipython",
    "version": 3
   },
   "file_extension": ".py",
   "mimetype": "text/x-python",
   "name": "python",
   "nbconvert_exporter": "python",
   "pygments_lexer": "ipython3",
   "version": "3.6.2"
  }
 },
 "nbformat": 4,
 "nbformat_minor": 2
}
