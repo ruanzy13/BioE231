{
 "cells": [
  {
   "cell_type": "markdown",
   "metadata": {},
   "source": [
    "# This is the code for lab 5"
   ]
  },
  {
   "cell_type": "markdown",
   "metadata": {},
   "source": [
    "### **Produce a table for each riboswitch including riboswitch name, start and end coordinates of OBS-1, start and end coordinates of OBS-2 and start and end coordinates of the two red regions**\n",
    "The sequence of DNA is input manually:\n",
    "_**AND-1**_\n",
    "GGGCGACCCUGAUGAGCUUGGUUUAGUAUUUACAGCUCCAUACAUGAGGUGUUAUCCCUAUGCAAGUUCGAUCAGGCGAAACGGUGAAAGCCGUAGGUUGCCCAGAGACAAU\n",
    ".............................xxxxxxxxxxxxxxxx...xxxxxxxxxxxxxxxx................................................\n",
    ".............................xxxxxxxxxxxxxxxx...................................................................\n",
    "................................................xxxxxxxxxxxxxxxx................................................\n",
    "\n",
    "_**OR-1**_\n",
    "GGGCGACCCUGAUGAGCUUGGUUGAGUAUUUACAGCUCCAUACAUGAGGUGUUCUCCCUACGCAAGUUCGAUCAGGCGAAACGGUGAAAGCCGUAGGUUGCCC\n",
    "..........................xxxxxxxxxxxxxxxxxxxx.........................................................\n",
    "..............................................xxxxxxxxxxxxxxxxxxxx.....................................\n",
    "..........................xxxxxxxxxxxxxxxxxxxxxxxxxxxxxxxxxxxxxxxx.....................................\n",
    "\n",
    "_**NOT-1**_\n",
    "GGCAGGUACAUACAGCUGAUGAGUCCCAAAUAGGACGAAACGCGACACACACCACUAAACCGUGCAGUGUUUUGCGUCCUGUAUUCCACUGC\n",
    "...........................................xxxxxxxxxxxxxxxxxxxxxxx..........................\n",
    "\n",
    "_**YES-1**_\n",
    "GGGCGACCCUGAUGAGCUUGAGUUUAGCUCGUCACUGUCCAGGUUCAAUCAGGCGAAACGGUGAAAGCCGUAGGUUGCCC\n",
    ".........................xxxxxxxxxxxxxxxxxxxxxx.................................\n",
    "\n",
    "\n"
   ]
  },
  {
   "cell_type": "markdown",
   "metadata": {},
   "source": [
    "### Answer the pre-questions before hunting the RNAfold code\n",
    "_Will the AND-1 riboswitch cleave itself when both of its OBS are bound?_ \n",
    "Yes, it will. For AND logic function,it is only active when receiving two separate molecular impulse, in this case, two separate DNA oligonucleotides.\n",
    "\n",
    "_Will the OR-1 riboswitch cleave itself when neither of its OBS are bound?_\n",
    "As a rule, it won't. And from the result of the experiment, it actually showed little self-cleavage in the absence of effector DNAs as predicted.\n",
    "\n",
    "_What behavior do we expect from the YES-1 riboswitch?_\n",
    "YES-1 is predicted to form the desired OFF- and ON-state strctures in the absence and presence, respectively, of a 22-nt effector DNA."
   ]
  },
  {
   "cell_type": "code",
   "execution_count": 1,
   "metadata": {},
   "outputs": [
    {
     "name": "stdout",
     "output_type": "stream",
     "text": [
      "('NOT-1', 44, 66, None, None, 40, 43, 74, 77)\n"
     ]
    }
   ],
   "source": [
    "import sqlite3\n",
    "conn=sqlite3.connect('riboswitch.db')\n",
    "c = conn.cursor()\n",
    "\n",
    "c.execute(\"\"\"CREATE TABLE switch\n",
    "             (name TEXT, start_OBS1 INT, end_OBS1 INT,start_OBS2 INT, end_OBS2 INT,start_RED1 INT, end_RED1 INT,start_RED2 INT, end_RED2 INT);\"\"\")\n",
    "c.execute(\"\"\"INSERT INTO switch VALUES ('AND-1',30,45,49,64,16,23,70,77);\"\"\")\n",
    "c.execute(\"\"\"INSERT INTO switch VALUES ('OR-1',27,46,47,66,16,26,67,77);\"\"\")\n",
    "c.execute(\"\"\"INSERT INTO switch (name,start_OBS1,end_OBS1,start_RED1,end_RED1,start_RED2,end_RED2) VALUES ('NOT-1',44,66,40,43,74,77);\"\"\")\n",
    "c.execute(\"\"\"INSERT INTO switch (name,start_OBS1,end_OBS1,start_RED1,end_RED1,start_RED2,end_RED2) VALUES ('YES-1',26,47,16,21,49,54);\"\"\")\n",
    "conn.commit()\n",
    "t = ('NOT-1',)\n",
    "c.execute('SELECT * FROM switch WHERE name=?', t)\n",
    "print(c.fetchone())\n"
   ]
  },
  {
   "cell_type": "markdown",
   "metadata": {},
   "source": [
    "### Write a routine to fold RNA, then generate one plot per riboswitch"
   ]
  },
  {
   "cell_type": "code",
   "execution_count": 17,
   "metadata": {},
   "outputs": [
    {
     "name": "stdout",
     "output_type": "stream",
     "text": [
      "\n"
     ]
    }
   ],
   "source": [
    "import subprocess\n",
    "seqs=\\\n",
    "\"\"\">AND-1\n",
    "GGGCGACCCUGAUGAGCUUGGUUUAGUAUUUACAGCUCCAUACAUGAGGUGUUAUCCCUAUGCAAGUUCGAUCAGGCGAAACGGUGAAAGCCGUAGGUUGCCCAGAGACAAU\\n\n",
    ">OR-1\n",
    "GGGCGACCCUGAUGAGCUUGGUUGAGUAUUUACAGCUCCAUACAUGAGGUGUUCUCCCUACGCAAGUUCGAUCAGGCGAAACGGUGAAAGCCGUAGGUUGCCC\\n\n",
    ">NOT-1\n",
    "GGCAGGUACAUACAGCUGAUGAGUCCCAAAUAGGACGAAACGCGACACACACCACUAAACCGUGCAGUGUUUUGCGUCCUGUAUUCCACUGC\\n\n",
    ">YES-1\n",
    "GGGCGACCCUGAUGAGCUUGAGUUUAGCUCGUCACUGUCCAGGUUCAAUCAGGCGAAACGGUGAAAGCCGUAGGUUGCCC\n",
    "@\n",
    "\"\"\"\n",
    "p = subprocess.run(['RNAfold'],input=bytes(seqs,'ascii'),stdout = subprocess.PIPE,stderr = subprocess.PIPE)\n",
    "print(p.stderr.decode())"
   ]
  },
  {
   "cell_type": "markdown",
   "metadata": {},
   "source": [
    "### Comparing each plot to the native conformation given in the publication\n",
    "1.AND-1\n",
    "They are the same!\n",
    "2.OR-1\n",
    "They are the same!\n",
    "3.NOT-1\n",
    "They are the same!\n",
    "4.YES-1\n",
    "They are different! Region IV, which is stem structure in the publication, become loop structure in the plot. The bottom loop structure in the publication becomes stem structure in the plot. In both structures, the red regions are not bound each other. However, in the published structure, the red regions are in the same stem, while they are in the different stem/loop at the plot I drew.\n",
    "They parameters used in the two method may vary."
   ]
  },
  {
   "cell_type": "markdown",
   "metadata": {},
   "source": [
    "### Simulating OBS binding in YES-1 and NOT-1\n",
    "The following code would generate 2 plots corresponding to YES-1 and NOT-1 structure. "
   ]
  },
  {
   "cell_type": "code",
   "execution_count": 16,
   "metadata": {},
   "outputs": [
    {
     "name": "stdout",
     "output_type": "stream",
     "text": [
      "\n"
     ]
    }
   ],
   "source": [
    "import sys\n",
    "infile=open(\"NOT-1-Constrained.txt\")\n",
    "line=infile.read()\n",
    "p = subprocess.run(['RNAfold','-C'],input=bytes(line,\"ascii\"),stdout = subprocess.PIPE,stderr = subprocess.PIPE)\n",
    "print(p.stderr.decode())"
   ]
  },
  {
   "cell_type": "code",
   "execution_count": 18,
   "metadata": {},
   "outputs": [
    {
     "name": "stdout",
     "output_type": "stream",
     "text": [
      "\n"
     ]
    }
   ],
   "source": [
    "import sys\n",
    "infile=open(\"YES-1-Constrained.txt\")\n",
    "line=infile.read()\n",
    "p = subprocess.run(['RNAfold','-C'],input=bytes(line,\"ascii\"),stdout = subprocess.PIPE,stderr = subprocess.PIPE)\n",
    "print(p.stderr.decode())"
   ]
  },
  {
   "cell_type": "markdown",
   "metadata": {},
   "source": [
    "1. NOT-1-OBS\n",
    "They are the same! The red regions do not bound each otehr.\n",
    "2. YES-1-OBS\n",
    "They are the same! And the red regions bound each other."
   ]
  },
  {
   "cell_type": "markdown",
   "metadata": {},
   "source": [
    "### Simulating OBS binding in AND-1 and OR-1"
   ]
  },
  {
   "cell_type": "code",
   "execution_count": 24,
   "metadata": {},
   "outputs": [
    {
     "name": "stdout",
     "output_type": "stream",
     "text": [
      "\n",
      "\n",
      "\n",
      "\n",
      "\n",
      "\n"
     ]
    }
   ],
   "source": [
    "names=['AND-1-OBS1-Constrained','AND-1-OBS2-Constrained','AND-1-OBS1_2-Constrained','OR-1-OBS1-Constrained','OR-1-OBS2-Constrained','OR-1-OBS1_2-Constrained']\n",
    "for name in names:\n",
    "    infile=open(name+'.txt')\n",
    "    line=infile.read()\n",
    "    p = subprocess.run(['RNAfold','-C'],input=bytes(line,\"ascii\"),stdout = subprocess.PIPE,stderr = subprocess.PIPE)\n",
    "    print(p.stderr.decode())"
   ]
  },
  {
   "cell_type": "markdown",
   "metadata": {},
   "source": [
    "### Determine whether the red regions pair with each other for each of the four possible input combination \n",
    "Notation: F/T represents OBS-1 is not bound to complementary DNA while OBS-2 is bound to complementary DNA. Additionally, if the red regions are paird, then output \"True\", otherwise, output \"False\"\n",
    "1. AND-1\n",
    "F/F -> False\n",
    "T/F -> False, but the stem-loop structure from my plot is different from the published structure.\n",
    "F/T -> False, but the stem-loop structrue from my plot is different from the published structure.\n",
    "T/T -> False, the stem-loop structure from my plot is different from the published structure.\n",
    "\n",
    "2. OR-1\n",
    "F/F -> False, the stem-loop structure plotted here is same as the published one.\n",
    "T/F -> False, thers is an extra loop structure near the in the red regions from my plot.\n",
    "F/T -> True, they are the same!\n",
    "T/T -> True, they are the same!\n",
    "\n",
    "According to my result, the design of AND-1 disagree the logic of AND gate and doesn't activate self-clevage when two separate molecular impulses input together.\n",
    "The design of OR-1 only partially satisfies the OR gate. Self-clevage will only be activated when only OBS-2 region is bound to oligonucleotide2 impulse, no matter in the presence/absence of oligonucleotide 1."
   ]
  },
  {
   "cell_type": "code",
   "execution_count": null,
   "metadata": {
    "collapsed": true
   },
   "outputs": [],
   "source": []
  }
 ],
 "metadata": {
  "kernelspec": {
   "display_name": "Python 3",
   "language": "python",
   "name": "python3"
  },
  "language_info": {
   "codemirror_mode": {
    "name": "ipython",
    "version": 3
   },
   "file_extension": ".py",
   "mimetype": "text/x-python",
   "name": "python",
   "nbconvert_exporter": "python",
   "pygments_lexer": "ipython3",
   "version": "3.6.2"
  }
 },
 "nbformat": 4,
 "nbformat_minor": 2
}
