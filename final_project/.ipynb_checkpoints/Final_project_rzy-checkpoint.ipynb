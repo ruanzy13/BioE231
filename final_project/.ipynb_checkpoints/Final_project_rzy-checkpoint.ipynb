{
 "cells": [
  {
   "cell_type": "markdown",
   "metadata": {},
   "source": [
    "### Summarize the result of OneCodex "
   ]
  },
  {
   "cell_type": "markdown",
   "metadata": {},
   "source": [
    "**Commands used in Terminal:**  \n",
    ">onecodex login  \n",
    "  \n",
    ">onecodex upload /data/metagenomes/160523Alm_D16-4703_1_sequence.fastq.gz \n",
    "\n",
    "[link to OneCodex webpage](https://app.onecodex.com/analysis/public/4e7f925b80bc48b6)  \n",
    "\n",
    "From the composition overview, Actinomyces odontolyticus has the highest abundance of 27.88 i5n our soil sample. It is an anaerobic, facultative capnophilic, gram-positive, nonsporulating, non–acid fast, non-motile, irregularly staining bacterium. There are 3 medium abundant microbes in our sample, which are Armatimonadetes bacterium 13_1_40CM_64_14(8.88%),Actinobacteria bacterium 13_1_40CM_4_65_12 (7.17%), and Candidatus Rokubacteria bacterium 13_1_20CM_2_69_58 (5.51%). There are another 10 microbes existed in the solid with much lower abundance. \n"
   ]
  },
  {
   "cell_type": "markdown",
   "metadata": {},
   "source": [
    "### Note \n",
    "Unexpected shutdown during the genome assembly process"
   ]
  }
 ],
 "metadata": {
  "kernelspec": {
   "display_name": "Python 3",
   "language": "python",
   "name": "python3"
  },
  "language_info": {
   "codemirror_mode": {
    "name": "ipython",
    "version": 3
   },
   "file_extension": ".py",
   "mimetype": "text/x-python",
   "name": "python",
   "nbconvert_exporter": "python",
   "pygments_lexer": "ipython3",
   "version": "3.6.2"
  }
 },
 "nbformat": 4,
 "nbformat_minor": 2
}
